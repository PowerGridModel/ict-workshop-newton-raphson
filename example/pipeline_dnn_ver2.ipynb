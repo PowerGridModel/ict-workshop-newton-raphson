{
 "cells": [
  {
   "cell_type": "code",
   "metadata": {
    "ExecuteTime": {
     "end_time": "2025-01-21T13:30:59.562747Z",
     "start_time": "2025-01-21T13:30:30.925930Z"
    }
   },
   "source": [
    "import pandapower as pp\n",
    "import torch\n",
    "import torch.nn as nn\n",
    "import torch.optim as optim\n",
    "import numpy as np\n",
    "\n",
    "# Create a simple power network using pandapower\n",
    "net = pp.networks.example_simple()\n",
    "\n",
    "# Define a neural network model\n",
    "class PowerFlowNN(nn.Module):\n",
    "    def __init__(self):\n",
    "        super(PowerFlowNN, self).__init__()\n",
    "        # self.fc1 = nn.Linear(8, 10)  # Adjust input size to match the concatenated input size\n",
    "        # self.fc2 = nn.Linear(10, 10)\n",
    "        # self.fc3 = nn.Linear(10, 8)  # Output size should match the number of buses * 2 (voltage magnitudes and angles)\n",
    "\n",
    "        self.fc1 = nn.Linear(2, 1000)  # Adjust input size to match the concatenated input size\n",
    "        self.fc2 = nn.Linear(1000, 1000)\n",
    "        self.fc3 = nn.Linear(1000, 14)  # Output size should match the number of buses\n",
    "\n",
    "    def forward(self, x):\n",
    "        x = torch.relu(self.fc1(x))\n",
    "        x = torch.relu(self.fc2(x))\n",
    "        x = self.fc3(x)\n",
    "        return x\n",
    "\n",
    "# Function to perform power flow calculation using Newton-Raphson method\n",
    "def power_flow_calculation(net):\n",
    "    pp.runpp(net, algorithm='nr')\n",
    "    return np.concatenate((net.res_bus.vm_pu.values, net.res_bus.va_degree.values))\n",
    "\n",
    "# Generate training data\n",
    "def generate_training_data(net, num_samples=1000):\n",
    "    inputs = []\n",
    "    targets = []\n",
    "    for _ in range(num_samples):\n",
    "        # Randomly perturb the load values\n",
    "        net.load.p_mw += (np.random.rand(len(net.load)) - 0.5) * 0.1\n",
    "        net.load.q_mvar += (np.random.rand(len(net.load)) - 0.5) * 0.1\n",
    "        \n",
    "        # Perform power flow calculation\n",
    "        target = power_flow_calculation(net)\n",
    "        \n",
    "        # Store the input and target values\n",
    "        input_values = np.concatenate((net.load.p_mw.values, net.load.q_mvar.values))\n",
    "        inputs.append(input_values)\n",
    "        targets.append(target)\n",
    "    \n",
    "    inputs = torch.tensor(inputs, dtype=torch.float32)\n",
    "    targets = torch.tensor(targets, dtype=torch.float32)\n",
    "    \n",
    "    return inputs, targets\n",
    "\n",
    "# Initialize the neural network model\n",
    "model = PowerFlowNN()\n",
    "\n",
    "# Define loss function and optimizer\n",
    "criterion = nn.MSELoss()\n",
    "optimizer = optim.Adam(model.parameters(), lr=0.001)\n",
    "\n",
    "# Generate training data\n",
    "inputs, targets = generate_training_data(net)\n",
    "\n",
    "# Print shapes of inputs and targets to verify\n",
    "print(\"Inputs shape: \", inputs.shape)\n",
    "print(\"Targets shape: \", targets.shape)\n",
    "\n",
    "# Train the neural network model\n",
    "num_epochs = 100\n",
    "for epoch in range(num_epochs):\n",
    "    optimizer.zero_grad()\n",
    "    outputs = model(inputs)\n",
    "    loss = criterion(outputs, targets)\n",
    "    loss.backward()\n",
    "    optimizer.step()\n",
    "    \n",
    "    if (epoch+1) % 10 == 0:\n",
    "        print(f'Epoch [{epoch+1}/{num_epochs}], Loss: {loss.item():.4f}')\n",
    "\n",
    "print(\"Training completed.\")\n",
    "\n",
    "# Compare the predicted values of the neural network model with the real network\n",
    "def compare_predictions_with_real_network(net, model):\n",
    "    # Perform power flow calculation on the real network\n",
    "    real_values = power_flow_calculation(net)\n",
    "    \n",
    "    # Prepare input data for the neural network model\n",
    "    input_values = np.concatenate((net.load.p_mw.values, net.load.q_mvar.values))\n",
    "    input_tensor = torch.tensor(input_values, dtype=torch.float32).unsqueeze(0)  # Add batch dimension\n",
    "    \n",
    "    # Get predictions from the neural network model\n",
    "    model.eval()\n",
    "    with torch.no_grad():\n",
    "        predicted_values = model(input_tensor).squeeze().numpy()\n",
    "    \n",
    "    # Split predicted values into voltage magnitudes and angles\n",
    "    predicted_vm_pu = predicted_values[:len(net.res_bus)]\n",
    "    predicted_va_degree = predicted_values[len(net.res_bus):]\n",
    "    \n",
    "    # Print predicted voltage angles for comparison\n",
    "    print(\"Predicted Voltage Angles: \", predicted_va_degree)\n",
    "\n",
    "    print(\"Reference voltage angles:\", real_values[7:])\n",
    "\n",
    "    print(\"Predicted Voltage Magnitudes: \", predicted_vm_pu)\n",
    "\n",
    "    print(\"Reference voltage magnitudes: \", real_values[0:7])\n",
    "\n",
    "    \n",
    "\n",
    "# Compare predictions with real network values\n",
    "compare_predictions_with_real_network(net, model)\n"
   ],
   "outputs": [
    {
     "name": "stderr",
     "output_type": "stream",
     "text": [
      "C:\\Users\\bmamudi\\AppData\\Local\\Temp\\ipykernel_8540\\3849427457.py:50: UserWarning: Creating a tensor from a list of numpy.ndarrays is extremely slow. Please consider converting the list to a single numpy.ndarray with numpy.array() before converting to a tensor. (Triggered internally at C:\\actions-runner\\_work\\pytorch\\pytorch\\builder\\windows\\pytorch\\torch\\csrc\\utils\\tensor_new.cpp:281.)\n",
      "  inputs = torch.tensor(inputs, dtype=torch.float32)\n"
     ]
    },
    {
     "name": "stdout",
     "output_type": "stream",
     "text": [
      "Inputs shape:  torch.Size([1000, 2])\n",
      "Targets shape:  torch.Size([1000, 14])\n",
      "Epoch [10/100], Loss: 1082.0227\n",
      "Epoch [20/100], Loss: 283.7551\n",
      "Epoch [30/100], Loss: 61.0294\n",
      "Epoch [40/100], Loss: 33.1613\n",
      "Epoch [50/100], Loss: 28.4474\n",
      "Epoch [60/100], Loss: 11.0173\n",
      "Epoch [70/100], Loss: 5.6392\n",
      "Epoch [80/100], Loss: 4.3672\n",
      "Epoch [90/100], Loss: 3.6069\n",
      "Epoch [100/100], Loss: 3.4664\n",
      "Training completed.\n",
      "Predicted Voltage Angles:  [  52.2654     52.21949    52.037624 -103.28189  -103.14893  -103.093\n",
      " -103.12826 ]\n",
      "Reference voltage angles: [ 50.          50.02293765  50.02293765 -98.57401537 -98.57401537\n",
      " -98.49650112 -98.49274608]\n",
      "Predicted Voltage Magnitudes:  [1.0753058 1.0470281 1.0043347 1.0510114 1.0712448 0.931118  1.1206894]\n",
      "Reference voltage magnitudes:  [1.02       1.02077734 1.02077734 1.02472549 1.02472549 1.03\n",
      " 1.02256881]\n"
     ]
    }
   ],
   "execution_count": 1
  },
  {
   "cell_type": "code",
   "metadata": {
    "ExecuteTime": {
     "end_time": "2025-01-21T13:31:30.451911Z",
     "start_time": "2025-01-21T13:31:30.406875Z"
    }
   },
   "source": [
    "pp.runpp(net, algorithm='nr')\n",
    "\n",
    "# Prepare input\n",
    "Ybus = net._ppc[\"internal\"][\"Ybus\"].toarray()\n",
    "S = net._ppc[\"internal\"][\"Sbus\"]\n",
    "input_tensor = torch.FloatTensor(np.concatenate([\n",
    "    Ybus.real.flatten(), \n",
    "    Ybus.imag.flatten(),\n",
    "    S.real, \n",
    "    S.imag\n",
    "]))\n",
    "\n",
    "V_mag_ref = net.res_bus.vm_pu.values \n",
    "V_ang_ref = net.res_bus.va_degree.values\n",
    "\n",
    "print(\"Reference voltage magnitudes:\", V_mag_ref)\n",
    "print(\"Reference voltage angles:\", V_ang_ref)"
   ],
   "outputs": [
    {
     "name": "stdout",
     "output_type": "stream",
     "text": [
      "Reference voltage magnitudes: [1.02       1.02077734 1.02077734 1.02472549 1.02472549 1.03\n",
      " 1.02256881]\n",
      "Reference voltage angles: [ 50.          50.02293765  50.02293765 -98.57401537 -98.57401537\n",
      " -98.49650112 -98.49274608]\n"
     ]
    }
   ],
   "execution_count": 2
  }
 ],
 "metadata": {
  "kernelspec": {
   "display_name": ".venv",
   "language": "python",
   "name": "python3"
  },
  "language_info": {
   "codemirror_mode": {
    "name": "ipython",
    "version": 3
   },
   "file_extension": ".py",
   "mimetype": "text/x-python",
   "name": "python",
   "nbconvert_exporter": "python",
   "pygments_lexer": "ipython3",
   "version": "3.12.5"
  }
 },
 "nbformat": 4,
 "nbformat_minor": 4
}
