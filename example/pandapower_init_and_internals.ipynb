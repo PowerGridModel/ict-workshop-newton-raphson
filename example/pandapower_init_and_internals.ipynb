{
 "cells": [
  {
   "cell_type": "markdown",
   "metadata": {},
   "source": [
    "## 1. Initialize the pandapower power flow calculation \n"
   ]
  },
  {
   "cell_type": "code",
   "execution_count": null,
   "metadata": {},
   "outputs": [],
   "source": [
    "# init\n",
    "import pandapower as pp\n",
    "import pandas as pd\n",
    "import numpy as np\n",
    " \n",
    "# Create or load your network\n",
    "# net = pp.create_empty_network()\n",
    "# ... add your network elements ...\n",
    "net = pp.networks.example_simple()\n",
    " \n",
    "# Create res_bus DataFrame with same index as net.bus\n",
    "res_bus = pd.DataFrame(index=net.bus.index)\n",
    " \n",
    "# Add your external voltage magnitude and angle vectors\n",
    "v_init = np.array([1.02, 1.02, 1.02, 1.02, 1.02, 1.03, 1.02])  # your voltage magnitude initialization\n",
    "theta_init = np.array([50.0, 50.0, 50.0, -100.0, -100.0, -100.0, -100.0])  # your voltage angle initialization in degrees\n",
    " \n",
    "# Run power flow with initialization from our initial states\n",
    "pp.runpp(net, init = \"auto\", init_vm_pu=v_init, init_va_degree=theta_init) # x < 10\n",
    "print(net['res_bus'][['vm_pu', 'va_degree']])"
   ]
  },
  {
   "cell_type": "markdown",
   "metadata": {},
   "source": [
    "## 2. Accessing pandapower internal states\n"
   ]
  },
  {
   "cell_type": "code",
   "execution_count": null,
   "metadata": {},
   "outputs": [],
   "source": [
    "# accessing internal\n",
    "import pandapower as pp\n",
    " \n",
    "# Create/load your network\n",
    "net = pp.networks.example_simple()\n",
    " \n",
    "# Run power flow\n",
    "pp.runpp(net)\n",
    " \n",
    "# Access internal states\n",
    "internal = net._ppc[\"internal\"]\n",
    " \n",
    "# Get specific variables\n",
    "J = internal[\"J\"]  # Jacobian matrix\n",
    "Vm_it = internal[\"Vm_it\"]  # Voltage magnitude iterations\n",
    "Va_it = internal[\"Va_it\"]  # Voltage angle iterations\n",
    "Ybus = internal[\"Ybus\"]  # System Y-bus matrix\n",
    "\n",
    "print(\"=====Jacobian Matrix=====\")\n",
    "print(J)\n",
    "print(\"=====Voltage Magnitude Iterations=====\")\n",
    "print(Vm_it)\n",
    "print(\"=====Voltage Angle Iterations=====\")\n",
    "print(Va_it)\n",
    "print(\"=====Y-bus Matrix=====\")\n",
    "print(Ybus)\n",
    " \n",
    "pp.runpp(net, v_debug=True)"
   ]
  }
 ],
 "metadata": {
  "kernelspec": {
   "display_name": "ict25",
   "language": "python",
   "name": "python3"
  },
  "language_info": {
   "codemirror_mode": {
    "name": "ipython",
    "version": 3
   },
   "file_extension": ".py",
   "mimetype": "text/x-python",
   "name": "python",
   "nbconvert_exporter": "python",
   "pygments_lexer": "ipython3",
   "version": "3.12.8"
  }
 },
 "nbformat": 4,
 "nbformat_minor": 2
}
