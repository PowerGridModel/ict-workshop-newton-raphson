{
 "cells": [
  {
   "cell_type": "markdown",
   "metadata": {},
   "source": [
    "### Libraries"
   ]
  },
  {
   "cell_type": "code",
   "execution_count": 21,
   "metadata": {},
   "outputs": [],
   "source": [
    "import pandapower as pp\n",
    "import torch\n",
    "import torch.nn as nn\n",
    "import torch.optim as optim\n",
    "import numpy as np\n",
    "import torch\n",
    "from torch.utils.data import Dataset\n",
    "from sklearn.preprocessing import StandardScaler\n",
    "import pickle"
   ]
  },
  {
   "cell_type": "markdown",
   "metadata": {},
   "source": [
    "### Create a simple 2-bus example"
   ]
  },
  {
   "cell_type": "code",
   "execution_count": 22,
   "metadata": {},
   "outputs": [],
   "source": [
    "class SimpleTwoBus:\n",
    "\n",
    "    def __init__(self, P, Q, G, B, V_init, theta_init):\n",
    "        '''This class creates a simple 2-bus network.'''\n",
    "        self.P = P\n",
    "        self.Q = Q\n",
    "        self.G = G\n",
    "        self.B = B\n",
    "        self.V_init = V_init\n",
    "        self.theta_init = theta_init\n",
    "        self.net = pp.create_empty_network()\n",
    "        self.create_two_bus_grid()\n",
    "\n",
    "\n",
    "    def create_two_bus_grid(self):\n",
    "    \n",
    "        # Create two buses with initialized voltage and angle\n",
    "        bus1 = pp.create_bus(self.net, vn_kv=20.0, name=\"Bus 1\")\n",
    "        bus2 = pp.create_bus(self.net, vn_kv=0.4, name=\"Bus 2\")\n",
    "    \n",
    "        # Initialize voltage and angle for buses\n",
    "        self.net.bus.loc[bus1, 'vm_pu'] = self.V_init[0]\n",
    "        self.net.bus.loc[bus1, 'va_degree'] = self.theta_init[0]\n",
    "        self.net.bus.loc[bus2, 'vm_pu'] = self.V_init[1]\n",
    "        self.net.bus.loc[bus2, 'va_degree'] = self.theta_init[1]\n",
    "    \n",
    "        # Create a transformer between the two buses\n",
    "        pp.create_transformer(self.net, bus1, bus2, std_type=\"0.25 MVA 20/0.4 kV\")\n",
    "    \n",
    "        # Create a load at bus 2 with specified P and Q\n",
    "        pp.create_load(self.net, bus2, p_mw=self.P, q_mvar=self.Q, name=\"Load\")\n",
    "    \n",
    "        # Create an external grid connection at bus 1 with specified G and B\n",
    "        pp.create_ext_grid(self.net, bus1, vm_pu=1.02, name=\"Grid Connection\", s_sc_max_mva=self.G, rx_max=self.B)"
   ]
  },
  {
   "cell_type": "markdown",
   "metadata": {},
   "source": [
    "### class that generates and saves a dataset using runpp newton-raphson power flow"
   ]
  },
  {
   "cell_type": "code",
   "execution_count": 23,
   "metadata": {},
   "outputs": [],
   "source": [
    "class PowerFlowDataset(Dataset):\n",
    "    def __init__(self, base_network, num_samples=1000, max_iteration=50, tolerance_mva=1e-8, v_perturb=0.15, theta_perturb=30):\n",
    "        \"\"\"\n",
    "        Initialize the dataset with a base network and number of samples.\n",
    "       \n",
    "        Parameters:\n",
    "        base_network (pandapowerNet): The base pandapower network.\n",
    "        num_samples (int): Number of samples to generate.\n",
    "        \"\"\"\n",
    "        self.base_net = base_network.deepcopy()  # Ensure base network is not modified\n",
    "        self.num_samples = num_samples\n",
    "        self.samples = []\n",
    "        self.scaler_input = StandardScaler()\n",
    "        self.scaler_output = StandardScaler()\n",
    "        self.max_iteration = max_iteration\n",
    "        self.tolerance_mva = tolerance_mva\n",
    "        self.v_perturb = v_perturb\n",
    "        self.theta_perturb = theta_perturb\n",
    " \n",
    "        self.generate_samples()\n",
    "\n",
    " \n",
    "    def generate_samples(self):\n",
    "        \"\"\"\n",
    "        Generate samples by first running normal power flow and then perturbing it to create ill-conditioning.\n",
    "        \"\"\"\n",
    "        # Run a normal power flow first\n",
    "        net = self.base_net.deepcopy()\n",
    "        try:\n",
    "            pp.runpp(net, max_iteration=100)  # Solve with standard conditions\n",
    "            print(\"Base case solved successfully.\")\n",
    "        except pp.powerflow.LoadflowNotConverged:\n",
    "            print(\"Base case did not converge. Check the network setup.\")\n",
    "            return\n",
    "       \n",
    "        # Extract the normal solution\n",
    "        v_nominal = net.res_bus.vm_pu.values  # Nominal voltage magnitudes\n",
    "        theta_nominal = net.res_bus.va_degree.values  # Nominal voltage angles\n",
    "       \n",
    "        for _ in range(self.num_samples):\n",
    "            net_ill = self.base_net.deepcopy()  # Keep the network unchanged\n",
    " \n",
    "            # --- Create an ill-conditioned case ---\n",
    "            v_ill = v_nominal + np.random.uniform(-self.v_perturb, self.v_perturb, len(v_nominal))  # Small perturbation\n",
    "            theta_ill = theta_nominal + np.random.uniform(-self.theta_perturb, self.theta_perturb, len(theta_nominal))  # Large phase shift\n",
    "            # p_ill = net_ill.res_bus.p_mw.values + np.random.uniform(-200, 200, len(v_nominal))  # Large power mismatch\n",
    " \n",
    "            try:\n",
    "                # Re-run power flow with ill-conditioned initialization\n",
    "                pp.runpp(net_ill,\n",
    "                         init=\"auto\",\n",
    "                         init_vm_pu=v_ill,\n",
    "                         init_va_degree=theta_ill,\n",
    "                         max_iteration=self.max_iteration,\n",
    "                         tolerance_mva=self.tolerance_mva)\n",
    "               \n",
    "                iterations = net_ill._ppc[\"iterations\"]\n",
    "                print(f\"Sample {_}: Converged in {iterations} iterations\")\n",
    " \n",
    "                # Extract ill-conditioned solution\n",
    "                Ybus = net_ill._ppc[\"internal\"][\"Ybus\"].toarray()\n",
    "                S = net_ill._ppc[\"internal\"][\"Sbus\"]\n",
    "                it = net._ppc[\"iterations\"]\n",
    "                et = net._ppc[\"et\"]\n",
    "                V_mag = net_ill.res_bus.vm_pu.values\n",
    "                V_ang = net_ill.res_bus.va_degree.values\n",
    "               \n",
    "\n",
    "                self.samples.append({\"P\": S.real,\n",
    "                                     \"Q\": S.imag,\n",
    "                                     \"G\": Ybus.real.flatten(),\n",
    "                                     \"B\": Ybus.imag.flatten(),\n",
    "                                     \"V_init\": v_ill,\n",
    "                                     \"theta_init\": theta_ill,\n",
    "                                     \"iterations\":it,\n",
    "                                     \"residual error\": et,\n",
    "                            })\n",
    "\n",
    "            except pp.powerflow.LoadflowNotConverged:\n",
    "                print(f\"Sample {_}: Ill-conditioned case did not converge!\")\n",
    "        \n",
    "        with open( \"data.pkl\", \"wb\") as f:\n",
    "            pickle.dump(self.samples, f)\n",
    "\n",
    "\n",
    " \n",
    "    def __len__(self):\n",
    "        return len(self.samples)\n",
    " \n",
    "    def __getitem__(self, idx):\n",
    "        sample = self.samples[idx]\n",
    "        return {\n",
    "            'input': torch.FloatTensor(sample['input']),\n",
    "            'output': torch.FloatTensor(sample['output'])\n",
    "        }"
   ]
  },
  {
   "cell_type": "markdown",
   "metadata": {},
   "source": [
    "### Generate dataset based on given initial values"
   ]
  },
  {
   "cell_type": "code",
   "execution_count": 24,
   "metadata": {},
   "outputs": [
    {
     "name": "stdout",
     "output_type": "stream",
     "text": [
      "Base case solved successfully.\n",
      "Sample 0: Converged in 4 iterations\n",
      "Sample 1: Converged in 3 iterations\n",
      "Sample 2: Converged in 4 iterations\n",
      "Sample 3: Converged in 3 iterations\n",
      "Sample 4: Converged in 3 iterations\n",
      "Sample 5: Converged in 3 iterations\n",
      "Sample 6: Converged in 3 iterations\n",
      "Sample 7: Converged in 3 iterations\n",
      "Sample 8: Converged in 3 iterations\n",
      "Sample 9: Converged in 5 iterations\n"
     ]
    }
   ],
   "source": [
    "P = 0.1  # Active power in MW\n",
    "Q = 0.05  # Reactive power in MVar\n",
    "G = 100  # Short-circuit power in MVA\n",
    "B = 0.1  # Short-circuit impedance\n",
    "V_init = [1.02, 1.0]  # Initial voltages in pu\n",
    "theta_init = [0, 0]  # Initial angles in degrees\n",
    "\n",
    "# create network object\n",
    "Net = SimpleTwoBus(P,Q,G,B,V_init,theta_init)\n",
    "net = Net.net\n",
    "\n",
    "# generate data\n",
    "PF_data = PowerFlowDataset(net, num_samples=10, max_iteration=50, tolerance_mva=1e-5, v_perturb=0.15, theta_perturb=30)"
   ]
  },
  {
   "cell_type": "markdown",
   "metadata": {},
   "source": [
    "### vectorize"
   ]
  },
  {
   "cell_type": "code",
   "execution_count": 25,
   "metadata": {},
   "outputs": [
    {
     "name": "stdout",
     "output_type": "stream",
     "text": [
      "(10, 17)\n"
     ]
    }
   ],
   "source": [
    "with open('data.pkl', \"rb\") as f:\n",
    "    grid_data = pickle.load(f)\n",
    "\n",
    "# Flatten each sample's vectors into a single feature vector\n",
    "flattened_data = []\n",
    "for d in grid_data:\n",
    "    X = np.concatenate([d['P'], d['Q'], d['G'], d['B'], d['V_init'], d['theta_init']])\n",
    "    Y = d['iterations']\n",
    "    flattened_data.append(np.append(X, Y))\n",
    "\n",
    "# Convert to NumPy array\n",
    "data_array = np.array(flattened_data)\n",
    "# Display shape of the array\n",
    "print(data_array.shape)\n",
    "np.save('vector_data.npy', data_array)"
   ]
  }
 ],
 "metadata": {
  "kernelspec": {
   "display_name": "base",
   "language": "python",
   "name": "python3"
  },
  "language_info": {
   "codemirror_mode": {
    "name": "ipython",
    "version": 3
   },
   "file_extension": ".py",
   "mimetype": "text/x-python",
   "name": "python",
   "nbconvert_exporter": "python",
   "pygments_lexer": "ipython3",
   "version": "3.11.5"
  }
 },
 "nbformat": 4,
 "nbformat_minor": 2
}
